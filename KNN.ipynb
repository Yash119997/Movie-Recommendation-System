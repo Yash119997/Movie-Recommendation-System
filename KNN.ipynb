{
 "cells": [
  {
   "cell_type": "code",
   "execution_count": 1,
   "metadata": {
    "executionInfo": {
     "elapsed": 1370,
     "status": "ok",
     "timestamp": 1633654545115,
     "user": {
      "displayName": "yash 35",
      "photoUrl": "https://lh3.googleusercontent.com/a-/AOh14GiG5RH4OWz2LuHHoqx6e7Jg50ObG0LH6OFcVchX=s64",
      "userId": "10086441478986180769"
     },
     "user_tz": 300
    },
    "id": "MM4npY6_Zec1"
   },
   "outputs": [],
   "source": [
    "import numpy as np\n",
    "import matplotlib.pyplot as plt\n",
    "import pandas as pd\n",
    "from sklearn.neighbors import KNeighborsClassifier\n",
    "from sklearn import metrics\n",
    "from sklearn.metrics import classification_report, zero_one_loss, confusion_matrix, accuracy_score"
   ]
  },
  {
   "cell_type": "code",
   "execution_count": 2,
   "metadata": {
    "colab": {
     "base_uri": "https://localhost:8080/"
    },
    "executionInfo": {
     "elapsed": 29246,
     "status": "ok",
     "timestamp": 1633654574358,
     "user": {
      "displayName": "yash 35",
      "photoUrl": "https://lh3.googleusercontent.com/a-/AOh14GiG5RH4OWz2LuHHoqx6e7Jg50ObG0LH6OFcVchX=s64",
      "userId": "10086441478986180769"
     },
     "user_tz": 300
    },
    "id": "mu9aKCUAZec4",
    "outputId": "966085be-c71d-4dec-b211-4a196857ab34"
   },
   "outputs": [
    {
     "data": {
      "text/plain": [
       "(70000, 784)"
      ]
     },
     "execution_count": 2,
     "metadata": {},
     "output_type": "execute_result"
    }
   ],
   "source": [
    "from sklearn.datasets import fetch_openml\n",
    "\n",
    "X, y = fetch_openml('mnist_784', version=1, return_X_y=True)\n",
    "X = X / 255.\n",
    "X.shape"
   ]
  },
  {
   "cell_type": "code",
   "execution_count": 3,
   "metadata": {
    "executionInfo": {
     "elapsed": 7,
     "status": "ok",
     "timestamp": 1633654574359,
     "user": {
      "displayName": "yash 35",
      "photoUrl": "https://lh3.googleusercontent.com/a-/AOh14GiG5RH4OWz2LuHHoqx6e7Jg50ObG0LH6OFcVchX=s64",
      "userId": "10086441478986180769"
     },
     "user_tz": 300
    },
    "id": "S1gXePheZec5"
   },
   "outputs": [],
   "source": [
    "X_train, X_test = X[:60000], X[60000:]\n",
    "y_train, y_test = y[:60000], y[60000:]"
   ]
  },
  {
   "cell_type": "code",
   "execution_count": 4,
   "metadata": {
    "colab": {
     "base_uri": "https://localhost:8080/"
    },
    "executionInfo": {
     "elapsed": 990332,
     "status": "ok",
     "timestamp": 1633655564686,
     "user": {
      "displayName": "yash 35",
      "photoUrl": "https://lh3.googleusercontent.com/a-/AOh14GiG5RH4OWz2LuHHoqx6e7Jg50ObG0LH6OFcVchX=s64",
      "userId": "10086441478986180769"
     },
     "user_tz": 300
    },
    "id": "aa03ZZqYZec6",
    "outputId": "0a3e3539-05c4-4e04-ac89-a0551d477a7a"
   },
   "outputs": [
    {
     "data": {
      "text/plain": [
       "0.9705"
      ]
     },
     "execution_count": 4,
     "metadata": {},
     "output_type": "execute_result"
    }
   ],
   "source": [
    "# Using 3 nearest neighbors with default parameters of KNeighborsClassifier\n",
    "K31 = KNeighborsClassifier(n_neighbors=3, weights='uniform', algorithm='auto', \n",
    "                          leaf_size=30, metric='minkowski')\n",
    "\n",
    "K31.fit(X_train,y_train)\n",
    "\n",
    "y_pred= K31.predict(X_test)\n",
    "\n",
    "r = metrics.accuracy_score(y_test,y_pred)\n",
    "r"
   ]
  },
  {
   "cell_type": "code",
   "execution_count": 6,
   "metadata": {
    "colab": {
     "base_uri": "https://localhost:8080/"
    },
    "executionInfo": {
     "elapsed": 208,
     "status": "ok",
     "timestamp": 1633659617039,
     "user": {
      "displayName": "yash 35",
      "photoUrl": "https://lh3.googleusercontent.com/a-/AOh14GiG5RH4OWz2LuHHoqx6e7Jg50ObG0LH6OFcVchX=s64",
      "userId": "10086441478986180769"
     },
     "user_tz": 300
    },
    "id": "jWV5gb_fZec7",
    "outputId": "9541d258-2cca-4bc6-c011-52da0379538f"
   },
   "outputs": [
    {
     "name": "stdout",
     "output_type": "stream",
     "text": [
      "              precision    recall  f1-score   support\n",
      "\n",
      "           0       0.97      0.99      0.98       980\n",
      "           1       0.94      1.00      0.97      1135\n",
      "           2       0.98      0.95      0.97      1032\n",
      "           3       0.96      0.96      0.96      1010\n",
      "           4       0.97      0.95      0.96       982\n",
      "           5       0.96      0.96      0.96       892\n",
      "           6       0.98      0.98      0.98       958\n",
      "           7       0.95      0.96      0.95      1028\n",
      "           8       0.99      0.92      0.95       974\n",
      "           9       0.95      0.95      0.95      1009\n",
      "\n",
      "    accuracy                           0.96     10000\n",
      "   macro avg       0.96      0.96      0.96     10000\n",
      "weighted avg       0.96      0.96      0.96     10000\n",
      "\n",
      "0.964\n",
      "0.03600000000000003\n"
     ]
    }
   ],
   "source": [
    "# Using 3 nearest neighbors, distance weights, kd_tree algorithm ,manhattan distance and setting the number of leaf nodes equal to 10\n",
    "K32 = KNeighborsClassifier(n_neighbors=3, weights='distance', algorithm='kd_tree', \n",
    "                                             leaf_size=10, metric='manhattan')\n",
    "\n",
    "K32.fit(X_train,y_train)\n",
    "\n",
    "y_pred32 = K32.predict(X_test)\n",
    "\n",
    "print(classification_report(y_test, y_pred32))\n",
    "print(accuracy_score(y_test,y_pred32))\n",
    "error32 = zero_one_loss(y_test, y_pred32)\n",
    "print(error32)"
   ]
  },
  {
   "cell_type": "code",
   "execution_count": 8,
   "metadata": {
    "colab": {
     "base_uri": "https://localhost:8080/"
    },
    "executionInfo": {
     "elapsed": 919146,
     "status": "ok",
     "timestamp": 1633660624041,
     "user": {
      "displayName": "yash 35",
      "photoUrl": "https://lh3.googleusercontent.com/a-/AOh14GiG5RH4OWz2LuHHoqx6e7Jg50ObG0LH6OFcVchX=s64",
      "userId": "10086441478986180769"
     },
     "user_tz": 300
    },
    "id": "lIdHdwXFZec7",
    "outputId": "20c9e3f5-f617-49ee-f914-0a94bcf4277d"
   },
   "outputs": [
    {
     "name": "stdout",
     "output_type": "stream",
     "text": [
      "              precision    recall  f1-score   support\n",
      "\n",
      "           0       0.97      0.99      0.98       980\n",
      "           1       0.97      1.00      0.98      1135\n",
      "           2       0.98      0.97      0.98      1032\n",
      "           3       0.97      0.97      0.97      1010\n",
      "           4       0.98      0.97      0.97       982\n",
      "           5       0.96      0.96      0.96       892\n",
      "           6       0.98      0.99      0.98       958\n",
      "           7       0.96      0.97      0.96      1028\n",
      "           8       0.99      0.95      0.97       974\n",
      "           9       0.96      0.96      0.96      1009\n",
      "\n",
      "    accuracy                           0.97     10000\n",
      "   macro avg       0.97      0.97      0.97     10000\n",
      "weighted avg       0.97      0.97      0.97     10000\n",
      "\n",
      "0.9717\n",
      "0.028299999999999992\n"
     ]
    }
   ],
   "source": [
    "# Using 3 nearest neighbors, distance weights, ball_tree algorithm ,euclidean distance and setting the number of leaf nodes equal to 10\n",
    "K33 = KNeighborsClassifier(n_neighbors=3, weights='distance', algorithm='ball_tree', \n",
    "                                             leaf_size=10, metric='euclidean')\n",
    "\n",
    "K33.fit(X_train,y_train)\n",
    "\n",
    "y_pred33 = K33.predict(X_test)\n",
    "\n",
    "print(classification_report(y_test, y_pred33))\n",
    "print(accuracy_score(y_test,y_pred33))\n",
    "error33 = zero_one_loss(y_test, y_pred33)\n",
    "print(error33)"
   ]
  },
  {
   "cell_type": "code",
   "execution_count": 4,
   "metadata": {
    "colab": {
     "base_uri": "https://localhost:8080/",
     "height": 471
    },
    "executionInfo": {
     "elapsed": 406,
     "status": "error",
     "timestamp": 1633660820873,
     "user": {
      "displayName": "yash 35",
      "photoUrl": "https://lh3.googleusercontent.com/a-/AOh14GiG5RH4OWz2LuHHoqx6e7Jg50ObG0LH6OFcVchX=s64",
      "userId": "10086441478986180769"
     },
     "user_tz": 300
    },
    "id": "ftOnmfgHZec8",
    "outputId": "19659a2e-2ecd-48e1-f12a-10017745bce8"
   },
   "outputs": [
    {
     "name": "stdout",
     "output_type": "stream",
     "text": [
      "              precision    recall  f1-score   support\n",
      "\n",
      "           0       0.96      0.99      0.98       980\n",
      "           1       0.95      1.00      0.98      1135\n",
      "           2       0.98      0.96      0.97      1032\n",
      "           3       0.96      0.97      0.97      1010\n",
      "           4       0.98      0.96      0.97       982\n",
      "           5       0.97      0.97      0.97       892\n",
      "           6       0.98      0.99      0.98       958\n",
      "           7       0.96      0.96      0.96      1028\n",
      "           8       0.99      0.94      0.96       974\n",
      "           9       0.96      0.95      0.95      1009\n",
      "\n",
      "    accuracy                           0.97     10000\n",
      "   macro avg       0.97      0.97      0.97     10000\n",
      "weighted avg       0.97      0.97      0.97     10000\n",
      "\n",
      "0.9688\n",
      "0.031200000000000006\n"
     ]
    }
   ],
   "source": [
    "# Using 5 nearest neighbors, uniform weights,algorithm is set to auto ,minkowski distance and setting the number of leaf nodes equal to 30\n",
    "K51 = KNeighborsClassifier(n_neighbors=5, weights='uniform', algorithm='auto', \n",
    "                          leaf_size=30, metric='minkowski')\n",
    "\n",
    "K51.fit(X_train,y_train)\n",
    "\n",
    "y_pred51 = K51.predict(X_test)\n",
    "\n",
    "print(classification_report(y_test, y_pred51))\n",
    "print(accuracy_score(y_test,y_pred51))\n",
    "error51 = zero_one_loss(y_test, y_pred51)\n",
    "print(error51)"
   ]
  },
  {
   "cell_type": "code",
   "execution_count": 12,
   "metadata": {
    "colab": {
     "base_uri": "https://localhost:8080/"
    },
    "executionInfo": {
     "elapsed": 1555374,
     "status": "ok",
     "timestamp": 1633662390108,
     "user": {
      "displayName": "yash 35",
      "photoUrl": "https://lh3.googleusercontent.com/a-/AOh14GiG5RH4OWz2LuHHoqx6e7Jg50ObG0LH6OFcVchX=s64",
      "userId": "10086441478986180769"
     },
     "user_tz": 300
    },
    "id": "Pcv5XSwoZec9",
    "outputId": "c1ff3f94-bc13-49fc-ac29-23a02c08ab22"
   },
   "outputs": [
    {
     "name": "stdout",
     "output_type": "stream",
     "text": [
      "              precision    recall  f1-score   support\n",
      "\n",
      "           0       0.96      0.99      0.98       980\n",
      "           1       0.94      1.00      0.97      1135\n",
      "           2       0.98      0.94      0.96      1032\n",
      "           3       0.97      0.96      0.96      1010\n",
      "           4       0.97      0.95      0.96       982\n",
      "           5       0.96      0.97      0.96       892\n",
      "           6       0.98      0.98      0.98       958\n",
      "           7       0.95      0.96      0.95      1028\n",
      "           8       0.99      0.92      0.96       974\n",
      "           9       0.95      0.95      0.95      1009\n",
      "\n",
      "    accuracy                           0.96     10000\n",
      "   macro avg       0.96      0.96      0.96     10000\n",
      "weighted avg       0.96      0.96      0.96     10000\n",
      "\n",
      "0.9629\n",
      "0.03710000000000002\n"
     ]
    }
   ],
   "source": [
    "# Using 5 nearest neighbors, distance weights,kd tree algorithm, manhattan distance and setting the number of leaf nodes equal to 10\n",
    "K52 = KNeighborsClassifier(n_neighbors=5, weights='distance', algorithm='kd_tree', \n",
    "                                             leaf_size=10, metric='manhattan')\n",
    "K52.fit(X_train,y_train)\n",
    "\n",
    "y_pred52 = K52.predict(X_test)\n",
    "\n",
    "print(classification_report(y_test, y_pred52))\n",
    "print(accuracy_score(y_test,y_pred52))\n",
    "error52 = zero_one_loss(y_test, y_pred52)\n",
    "print(error52)"
   ]
  },
  {
   "cell_type": "code",
   "execution_count": 13,
   "metadata": {
    "colab": {
     "base_uri": "https://localhost:8080/"
    },
    "executionInfo": {
     "elapsed": 921109,
     "status": "ok",
     "timestamp": 1633663311202,
     "user": {
      "displayName": "yash 35",
      "photoUrl": "https://lh3.googleusercontent.com/a-/AOh14GiG5RH4OWz2LuHHoqx6e7Jg50ObG0LH6OFcVchX=s64",
      "userId": "10086441478986180769"
     },
     "user_tz": 300
    },
    "id": "geaIZV_qZec-",
    "outputId": "7df19799-557b-4c2e-ed4d-6cf5be3372f2"
   },
   "outputs": [
    {
     "name": "stdout",
     "output_type": "stream",
     "text": [
      "              precision    recall  f1-score   support\n",
      "\n",
      "           0       0.97      0.99      0.98       980\n",
      "           1       0.96      1.00      0.98      1135\n",
      "           2       0.98      0.96      0.97      1032\n",
      "           3       0.97      0.96      0.97      1010\n",
      "           4       0.98      0.96      0.97       982\n",
      "           5       0.97      0.97      0.97       892\n",
      "           6       0.98      0.99      0.98       958\n",
      "           7       0.96      0.96      0.96      1028\n",
      "           8       0.98      0.94      0.96       974\n",
      "           9       0.95      0.96      0.95      1009\n",
      "\n",
      "    accuracy                           0.97     10000\n",
      "   macro avg       0.97      0.97      0.97     10000\n",
      "weighted avg       0.97      0.97      0.97     10000\n",
      "\n",
      "0.9691\n",
      "0.03090000000000004\n"
     ]
    }
   ],
   "source": [
    "# Using 5 nearest neighbors, distance weights,ball tree algorithm, euclidean distance and setting the number of leaf nodes equal to 10\n",
    "K53 = KNeighborsClassifier(n_neighbors=5, weights='distance', algorithm='ball_tree', \n",
    "                                             leaf_size=10, metric='euclidean')\n",
    "\n",
    "K53.fit(X_train,y_train)\n",
    "\n",
    "y_pred53 = K53.predict(X_test)\n",
    "\n",
    "print(classification_report(y_test, y_pred53))\n",
    "print(accuracy_score(y_test,y_pred53))\n",
    "error53 = zero_one_loss(y_test, y_pred53)\n",
    "print(error53)"
   ]
  },
  {
   "cell_type": "code",
   "execution_count": 14,
   "metadata": {
    "colab": {
     "base_uri": "https://localhost:8080/"
    },
    "executionInfo": {
     "elapsed": 984582,
     "status": "ok",
     "timestamp": 1633664296342,
     "user": {
      "displayName": "yash 35",
      "photoUrl": "https://lh3.googleusercontent.com/a-/AOh14GiG5RH4OWz2LuHHoqx6e7Jg50ObG0LH6OFcVchX=s64",
      "userId": "10086441478986180769"
     },
     "user_tz": 300
    },
    "id": "G6DKrvuiZec-",
    "outputId": "b4c71677-90df-41c1-ebe0-71c7e1df4339"
   },
   "outputs": [
    {
     "name": "stdout",
     "output_type": "stream",
     "text": [
      "              precision    recall  f1-score   support\n",
      "\n",
      "           0       0.96      0.99      0.98       980\n",
      "           1       0.93      1.00      0.96      1135\n",
      "           2       0.98      0.94      0.96      1032\n",
      "           3       0.96      0.96      0.96      1010\n",
      "           4       0.97      0.95      0.96       982\n",
      "           5       0.95      0.97      0.96       892\n",
      "           6       0.98      0.98      0.98       958\n",
      "           7       0.95      0.96      0.95      1028\n",
      "           8       0.99      0.91      0.95       974\n",
      "           9       0.95      0.95      0.95      1009\n",
      "\n",
      "    accuracy                           0.96     10000\n",
      "   macro avg       0.96      0.96      0.96     10000\n",
      "weighted avg       0.96      0.96      0.96     10000\n",
      "\n",
      "0.9615\n",
      "0.03849999999999998\n"
     ]
    }
   ],
   "source": [
    "# Using 7 nearest neighbors, uniform weights,algorithm is set to auto,distance is manhattan and setting the number of leaf nodes equal to 30\n",
    "K71 = KNeighborsClassifier(n_neighbors=7, weights='uniform', algorithm='auto', \n",
    "                          leaf_size=30, metric='manhattan')\n",
    "\n",
    "\n",
    "K71.fit(X_train,y_train)\n",
    "\n",
    "y_pred71 = K71.predict(X_test)\n",
    "\n",
    "print(classification_report(y_test, y_pred71))\n",
    "print(accuracy_score(y_test,y_pred71))\n",
    "error71 = zero_one_loss(y_test, y_pred71)\n",
    "print(error71)"
   ]
  },
  {
   "cell_type": "code",
   "execution_count": 16,
   "metadata": {
    "colab": {
     "base_uri": "https://localhost:8080/"
    },
    "executionInfo": {
     "elapsed": 1559938,
     "status": "ok",
     "timestamp": 1633666730881,
     "user": {
      "displayName": "yash 35",
      "photoUrl": "https://lh3.googleusercontent.com/a-/AOh14GiG5RH4OWz2LuHHoqx6e7Jg50ObG0LH6OFcVchX=s64",
      "userId": "10086441478986180769"
     },
     "user_tz": 300
    },
    "id": "45R-rH73Zec_",
    "outputId": "2390401a-cdc3-419d-9fae-7fa5e7556d5e"
   },
   "outputs": [
    {
     "name": "stdout",
     "output_type": "stream",
     "text": [
      "              precision    recall  f1-score   support\n",
      "\n",
      "           0       0.96      0.99      0.98       980\n",
      "           1       0.93      1.00      0.96      1135\n",
      "           2       0.99      0.94      0.96      1032\n",
      "           3       0.97      0.96      0.97      1010\n",
      "           4       0.98      0.95      0.96       982\n",
      "           5       0.96      0.96      0.96       892\n",
      "           6       0.97      0.98      0.98       958\n",
      "           7       0.94      0.96      0.95      1028\n",
      "           8       0.99      0.92      0.95       974\n",
      "           9       0.95      0.95      0.95      1009\n",
      "\n",
      "    accuracy                           0.96     10000\n",
      "   macro avg       0.96      0.96      0.96     10000\n",
      "weighted avg       0.96      0.96      0.96     10000\n",
      "\n",
      "0.9623\n",
      "0.037699999999999956\n"
     ]
    }
   ],
   "source": [
    "# Using 7 nearest neighbors, distance weights,kd_tree algorithm,minkowski distance and setting the number of leaf nodes equal to 10\n",
    "K72 = KNeighborsClassifier(n_neighbors=7, weights='distance', algorithm='kd_tree', \n",
    "                                             leaf_size=10, metric='minkowski')\n",
    "\n",
    "K72.fit(X_train,y_train)\n",
    "\n",
    "y_pred72 = K72.predict(X_test)\n",
    "\n",
    "print(classification_report(y_test, y_pred72))\n",
    "print(accuracy_score(y_test,y_pred72))\n",
    "error72 = zero_one_loss(y_test, y_pred72)\n",
    "print(error72)"
   ]
  },
  {
   "cell_type": "code",
   "execution_count": 17,
   "metadata": {
    "colab": {
     "base_uri": "https://localhost:8080/"
    },
    "executionInfo": {
     "elapsed": 922712,
     "status": "ok",
     "timestamp": 1633667653578,
     "user": {
      "displayName": "yash 35",
      "photoUrl": "https://lh3.googleusercontent.com/a-/AOh14GiG5RH4OWz2LuHHoqx6e7Jg50ObG0LH6OFcVchX=s64",
      "userId": "10086441478986180769"
     },
     "user_tz": 300
    },
    "id": "KO3mimVIZec_",
    "outputId": "b7137890-54cf-4790-bdbb-66c6e874bab8"
   },
   "outputs": [
    {
     "name": "stdout",
     "output_type": "stream",
     "text": [
      "              precision    recall  f1-score   support\n",
      "\n",
      "           0       0.97      0.99      0.98       980\n",
      "           1       0.96      1.00      0.98      1135\n",
      "           2       0.99      0.96      0.97      1032\n",
      "           3       0.97      0.96      0.97      1010\n",
      "           4       0.98      0.96      0.97       982\n",
      "           5       0.97      0.97      0.97       892\n",
      "           6       0.98      0.99      0.98       958\n",
      "           7       0.96      0.96      0.96      1028\n",
      "           8       0.99      0.95      0.96       974\n",
      "           9       0.95      0.96      0.96      1009\n",
      "\n",
      "    accuracy                           0.97     10000\n",
      "   macro avg       0.97      0.97      0.97     10000\n",
      "weighted avg       0.97      0.97      0.97     10000\n",
      "\n",
      "0.97\n",
      "0.030000000000000027\n"
     ]
    }
   ],
   "source": [
    "# Using 7 nearest neighbors, distance weights,ball_tree algorithm, euclidean distance and setting the number of leaf nodes equal to 10\n",
    "K73 = KNeighborsClassifier(n_neighbors=7, weights='distance', algorithm='ball_tree', \n",
    "                                             leaf_size=10, metric='euclidean')\n",
    "K73.fit(X_train,y_train)\n",
    "\n",
    "y_pred73 = K73.predict(X_test)\n",
    "\n",
    "print(classification_report(y_test, y_pred73))\n",
    "print(accuracy_score(y_test,y_pred73))\n",
    "error73 = zero_one_loss(y_test, y_pred73)\n",
    "print(error73)"
   ]
  },
  {
   "cell_type": "code",
   "execution_count": null,
   "metadata": {
    "executionInfo": {
     "elapsed": 51,
     "status": "aborted",
     "timestamp": 1633660711322,
     "user": {
      "displayName": "yash 35",
      "photoUrl": "https://lh3.googleusercontent.com/a-/AOh14GiG5RH4OWz2LuHHoqx6e7Jg50ObG0LH6OFcVchX=s64",
      "userId": "10086441478986180769"
     },
     "user_tz": 300
    },
    "id": "Frx3JhLaZec_"
   },
   "outputs": [],
   "source": []
  }
 ],
 "metadata": {
  "colab": {
   "collapsed_sections": [],
   "name": "KNN.ipynb",
   "version": ""
  },
  "kernelspec": {
   "display_name": "Python 3",
   "language": "python",
   "name": "python3"
  },
  "language_info": {
   "codemirror_mode": {
    "name": "ipython",
    "version": 3
   },
   "file_extension": ".py",
   "mimetype": "text/x-python",
   "name": "python",
   "nbconvert_exporter": "python",
   "pygments_lexer": "ipython3",
   "version": "3.7.6"
  }
 },
 "nbformat": 4,
 "nbformat_minor": 1
}
