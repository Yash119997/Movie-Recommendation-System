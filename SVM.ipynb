{
 "cells": [
  {
   "cell_type": "code",
   "execution_count": 3,
   "metadata": {
    "scrolled": true
   },
   "outputs": [],
   "source": [
    "import numpy as np\n",
    "import matplotlib.pyplot as plt\n",
    "import pandas as pd\n",
    "from sklearn.datasets import fetch_openml\n",
    "from sklearn.svm import SVC\n",
    "from sklearn.metrics import classification_report, zero_one_loss, confusion_matrix, accuracy_score"
   ]
  },
  {
   "cell_type": "code",
   "execution_count": 4,
   "metadata": {},
   "outputs": [
    {
     "data": {
      "text/plain": [
       "(70000, 784)"
      ]
     },
     "execution_count": 4,
     "metadata": {},
     "output_type": "execute_result"
    }
   ],
   "source": [
    "# Load data from https://www.openml.org/d/554\n",
    "X, y = fetch_openml('mnist_784', version=1, return_X_y=True)\n",
    "X = X / 255.\n",
    "X.shape"
   ]
  },
  {
   "cell_type": "code",
   "execution_count": 5,
   "metadata": {},
   "outputs": [],
   "source": [
    "# rescale the data, use the traditional train/test split\n",
    "\n",
    "X_train, X_test = X[:60000], X[60000:]\n",
    "y_train, y_test = y[:60000], y[60000:]"
   ]
  },
  {
   "cell_type": "code",
   "execution_count": null,
   "metadata": {},
   "outputs": [],
   "source": []
  },
  {
   "cell_type": "code",
   "execution_count": 6,
   "metadata": {},
   "outputs": [
    {
     "data": {
      "text/plain": [
       "SVC(C=1.0, break_ties=False, cache_size=200, class_weight=None, coef0=0.0,\n",
       "    decision_function_shape='ovr', degree=3, gamma='scale', kernel='linear',\n",
       "    max_iter=-1, probability=False, random_state=None, shrinking=True,\n",
       "    tol=0.001, verbose=False)"
      ]
     },
     "execution_count": 6,
     "metadata": {},
     "output_type": "execute_result"
    }
   ],
   "source": [
    "# Using linear kernel and gamma scale and rest is set to default\n",
    "svc_linear = SVC(kernel='linear', random_state=None, gamma='scale')\n",
    "svc_linear.fit(X_train, y_train)"
   ]
  },
  {
   "cell_type": "code",
   "execution_count": 7,
   "metadata": {},
   "outputs": [],
   "source": [
    "y_pred = svc_linear.predict(X_test)"
   ]
  },
  {
   "cell_type": "code",
   "execution_count": 8,
   "metadata": {},
   "outputs": [
    {
     "name": "stdout",
     "output_type": "stream",
     "text": [
      "              precision    recall  f1-score   support\n",
      "\n",
      "           0       0.95      0.98      0.96       980\n",
      "           1       0.97      0.99      0.98      1135\n",
      "           2       0.93      0.94      0.93      1032\n",
      "           3       0.91      0.94      0.92      1010\n",
      "           4       0.94      0.96      0.95       982\n",
      "           5       0.91      0.90      0.91       892\n",
      "           6       0.96      0.95      0.95       958\n",
      "           7       0.95      0.93      0.94      1028\n",
      "           8       0.94      0.90      0.92       974\n",
      "           9       0.95      0.91      0.93      1009\n",
      "\n",
      "    accuracy                           0.94     10000\n",
      "   macro avg       0.94      0.94      0.94     10000\n",
      "weighted avg       0.94      0.94      0.94     10000\n",
      "\n",
      "0.9404\n",
      "0.059599999999999986\n"
     ]
    }
   ],
   "source": [
    "print(classification_report(y_test,y_pred))\n",
    "print(accuracy_score(y_test,y_pred))\n",
    "error = zero_one_loss(y_test, y_pred)\n",
    "print(error)"
   ]
  },
  {
   "cell_type": "code",
   "execution_count": 9,
   "metadata": {},
   "outputs": [
    {
     "name": "stderr",
     "output_type": "stream",
     "text": [
      "C:\\Users\\Yash\\anaconda3\\lib\\site-packages\\sklearn\\svm\\_base.py:231: ConvergenceWarning: Solver terminated early (max_iter=1000).  Consider pre-processing your data with StandardScaler or MinMaxScaler.\n",
      "  % self.max_iter, ConvergenceWarning)\n"
     ]
    },
    {
     "data": {
      "text/plain": [
       "SVC(C=100, break_ties=False, cache_size=200, class_weight=None, coef0=0.0,\n",
       "    decision_function_shape='ovr', degree=3, gamma='auto', kernel='linear',\n",
       "    max_iter=1000, probability=False, random_state=None, shrinking=True,\n",
       "    tol=0.001, verbose=False)"
      ]
     },
     "execution_count": 9,
     "metadata": {},
     "output_type": "execute_result"
    }
   ],
   "source": [
    "# Using linear kernel \n",
    "# regulization param is set to 100, gamma is set to auto and max iteration is set to 1000\n",
    "svm_linear2 = SVC(C=100, kernel='linear', gamma='auto', max_iter=1000,\n",
    "                  probability=False, random_state=None)\n",
    "svm_linear2.fit(X_train, y_train)"
   ]
  },
  {
   "cell_type": "code",
   "execution_count": 10,
   "metadata": {},
   "outputs": [],
   "source": [
    "y_pred1 = svm_linear2.predict(X_test)"
   ]
  },
  {
   "cell_type": "code",
   "execution_count": 11,
   "metadata": {},
   "outputs": [
    {
     "name": "stdout",
     "output_type": "stream",
     "text": [
      "              precision    recall  f1-score   support\n",
      "\n",
      "           0       0.91      0.97      0.94       980\n",
      "           1       0.89      0.95      0.92      1135\n",
      "           2       0.80      0.82      0.81      1032\n",
      "           3       0.73      0.78      0.75      1010\n",
      "           4       0.78      0.82      0.80       982\n",
      "           5       0.79      0.74      0.76       892\n",
      "           6       0.93      0.91      0.92       958\n",
      "           7       0.84      0.72      0.78      1028\n",
      "           8       0.70      0.60      0.65       974\n",
      "           9       0.63      0.68      0.66      1009\n",
      "\n",
      "    accuracy                           0.80     10000\n",
      "   macro avg       0.80      0.80      0.80     10000\n",
      "weighted avg       0.80      0.80      0.80     10000\n",
      "\n",
      "0.8014\n",
      "0.8014\n"
     ]
    }
   ],
   "source": [
    "print(classification_report(y_test,y_pred1))\n",
    "print(accuracy_score(y_test,y_pred1))\n",
    "error1 = zero_one_loss(y_test, y_pred1)\n",
    "print(error1)"
   ]
  },
  {
   "cell_type": "code",
   "execution_count": null,
   "metadata": {},
   "outputs": [],
   "source": []
  },
  {
   "cell_type": "code",
   "execution_count": 12,
   "metadata": {},
   "outputs": [
    {
     "data": {
      "text/plain": [
       "SVC(C=1.0, break_ties=False, cache_size=200, class_weight=None, coef0=0.0,\n",
       "    decision_function_shape='ovr', degree=8, gamma='scale', kernel='poly',\n",
       "    max_iter=-1, probability=False, random_state=None, shrinking=True,\n",
       "    tol=0.001, verbose=False)"
      ]
     },
     "execution_count": 12,
     "metadata": {},
     "output_type": "execute_result"
    }
   ],
   "source": [
    "# Using poly kernel \n",
    "# regulization param is set to 1, gamma is set to scale and degree is set to 8\n",
    "svc_poly = SVC(kernel='poly', degree=8, gamma='scale', random_state=None)\n",
    "svc_poly.fit(X_train, y_train)"
   ]
  },
  {
   "cell_type": "code",
   "execution_count": 13,
   "metadata": {},
   "outputs": [],
   "source": [
    "y_pred2 = svc_poly.predict(X_test)"
   ]
  },
  {
   "cell_type": "code",
   "execution_count": 14,
   "metadata": {},
   "outputs": [
    {
     "name": "stdout",
     "output_type": "stream",
     "text": [
      "              precision    recall  f1-score   support\n",
      "\n",
      "           0       0.95      0.94      0.94       980\n",
      "           1       0.56      0.99      0.71      1135\n",
      "           2       0.97      0.86      0.92      1032\n",
      "           3       0.96      0.87      0.91      1010\n",
      "           4       0.98      0.86      0.92       982\n",
      "           5       0.98      0.80      0.88       892\n",
      "           6       0.98      0.89      0.93       958\n",
      "           7       0.98      0.85      0.91      1028\n",
      "           8       0.95      0.89      0.92       974\n",
      "           9       0.97      0.88      0.92      1009\n",
      "\n",
      "    accuracy                           0.89     10000\n",
      "   macro avg       0.93      0.88      0.90     10000\n",
      "weighted avg       0.92      0.89      0.90     10000\n",
      "\n",
      "0.8865\n",
      "0.8865\n"
     ]
    }
   ],
   "source": [
    "print(classification_report(y_test, y_pred2))\n",
    "print(accuracy_score(y_test,y_pred2))\n",
    "error2 = zero_one_loss(y_test, y_pred2)\n",
    "print(error2)"
   ]
  },
  {
   "cell_type": "code",
   "execution_count": 15,
   "metadata": {},
   "outputs": [
    {
     "name": "stderr",
     "output_type": "stream",
     "text": [
      "C:\\Users\\Yash\\anaconda3\\lib\\site-packages\\sklearn\\svm\\_base.py:231: ConvergenceWarning: Solver terminated early (max_iter=1000).  Consider pre-processing your data with StandardScaler or MinMaxScaler.\n",
      "  % self.max_iter, ConvergenceWarning)\n"
     ]
    },
    {
     "data": {
      "text/plain": [
       "SVC(C=100, break_ties=False, cache_size=200, class_weight=None, coef0=0.0,\n",
       "    decision_function_shape='ovr', degree=10, gamma='auto', kernel='poly',\n",
       "    max_iter=1000, probability=False, random_state=None, shrinking=True,\n",
       "    tol=0.001, verbose=False)"
      ]
     },
     "execution_count": 15,
     "metadata": {},
     "output_type": "execute_result"
    }
   ],
   "source": [
    "# Using poly kernel \n",
    "# regulization param is set to 100, gamma is set to auto, degree is set to 10 and max iterations are 1000\n",
    "svc_poly1 = SVC(C=100, kernel='poly', degree=10, gamma='auto', max_iter=1000,\n",
    "                  probability=False, random_state=None)\n",
    "svc_poly1.fit(X_train, y_train)"
   ]
  },
  {
   "cell_type": "code",
   "execution_count": 16,
   "metadata": {},
   "outputs": [],
   "source": [
    "y_pred3 = svc_poly1.predict(X_test)"
   ]
  },
  {
   "cell_type": "code",
   "execution_count": 17,
   "metadata": {},
   "outputs": [
    {
     "name": "stdout",
     "output_type": "stream",
     "text": [
      "              precision    recall  f1-score   support\n",
      "\n",
      "           0       0.94      0.13      0.23       980\n",
      "           1       0.00      0.00      0.00      1135\n",
      "           2       1.00      0.00      0.00      1032\n",
      "           3       1.00      0.01      0.01      1010\n",
      "           4       0.67      0.00      0.00       982\n",
      "           5       0.00      0.00      0.00       892\n",
      "           6       0.93      0.16      0.28       958\n",
      "           7       0.50      0.00      0.00      1028\n",
      "           8       0.21      0.09      0.13       974\n",
      "           9       0.11      0.99      0.20      1009\n",
      "\n",
      "    accuracy                           0.14     10000\n",
      "   macro avg       0.54      0.14      0.09     10000\n",
      "weighted avg       0.53      0.14      0.08     10000\n",
      "\n",
      "0.139\n",
      "0.139\n"
     ]
    },
    {
     "name": "stderr",
     "output_type": "stream",
     "text": [
      "C:\\Users\\Yash\\anaconda3\\lib\\site-packages\\sklearn\\metrics\\_classification.py:1272: UndefinedMetricWarning: Precision and F-score are ill-defined and being set to 0.0 in labels with no predicted samples. Use `zero_division` parameter to control this behavior.\n",
      "  _warn_prf(average, modifier, msg_start, len(result))\n"
     ]
    }
   ],
   "source": [
    "print(classification_report(y_test, y_pred3))\n",
    "print(accuracy_score(y_test,y_pred3))\n",
    "error3 = zero_one_loss(y_test, y_pred3)\n",
    "print(error3)"
   ]
  },
  {
   "cell_type": "code",
   "execution_count": 18,
   "metadata": {},
   "outputs": [
    {
     "data": {
      "text/plain": [
       "SVC(C=1.0, break_ties=False, cache_size=200, class_weight=None, coef0=0.0,\n",
       "    decision_function_shape='ovr', degree=3, gamma='scale', kernel='rbf',\n",
       "    max_iter=-1, probability=False, random_state=None, shrinking=True,\n",
       "    tol=0.001, verbose=False)"
      ]
     },
     "execution_count": 18,
     "metadata": {},
     "output_type": "execute_result"
    }
   ],
   "source": [
    "# Using rbf kernel \n",
    "# regulization param is set to 1, gamma is set to scale and random_state is None\n",
    "svc_rbf = SVC(kernel='rbf', gamma='scale', random_state=None)\n",
    "svc_rbf.fit(X_train, y_train)"
   ]
  },
  {
   "cell_type": "code",
   "execution_count": 19,
   "metadata": {},
   "outputs": [],
   "source": [
    "y_pred4 = svc_rbf.predict(X_test)"
   ]
  },
  {
   "cell_type": "code",
   "execution_count": 20,
   "metadata": {},
   "outputs": [
    {
     "name": "stdout",
     "output_type": "stream",
     "text": [
      "[[ 973    0    1    0    0    2    1    1    2    0]\n",
      " [   0 1126    3    1    0    1    1    1    2    0]\n",
      " [   6    1 1006    2    1    0    2    7    6    1]\n",
      " [   0    0    2  995    0    2    0    5    5    1]\n",
      " [   0    0    5    0  961    0    3    0    2   11]\n",
      " [   2    0    0    9    0  871    4    1    4    1]\n",
      " [   6    2    0    0    2    3  944    0    1    0]\n",
      " [   0    6   11    1    1    0    0  996    2   11]\n",
      " [   3    0    2    6    3    2    2    3  950    3]\n",
      " [   3    4    1    7   10    2    1    7    4  970]]\n",
      "              precision    recall  f1-score   support\n",
      "\n",
      "           0       0.98      0.99      0.99       980\n",
      "           1       0.99      0.99      0.99      1135\n",
      "           2       0.98      0.97      0.98      1032\n",
      "           3       0.97      0.99      0.98      1010\n",
      "           4       0.98      0.98      0.98       982\n",
      "           5       0.99      0.98      0.98       892\n",
      "           6       0.99      0.99      0.99       958\n",
      "           7       0.98      0.97      0.97      1028\n",
      "           8       0.97      0.98      0.97       974\n",
      "           9       0.97      0.96      0.97      1009\n",
      "\n",
      "    accuracy                           0.98     10000\n",
      "   macro avg       0.98      0.98      0.98     10000\n",
      "weighted avg       0.98      0.98      0.98     10000\n",
      "\n",
      "0.9792\n"
     ]
    }
   ],
   "source": [
    "print(classification_report(y_test, y_pred4))\n",
    "print(accuracy_score(y_test,y_pred4))\n",
    "error4 = zero_one_loss(y_test, y_pred4)\n",
    "print(error4)"
   ]
  },
  {
   "cell_type": "code",
   "execution_count": null,
   "metadata": {},
   "outputs": [],
   "source": []
  },
  {
   "cell_type": "code",
   "execution_count": 21,
   "metadata": {},
   "outputs": [
    {
     "name": "stderr",
     "output_type": "stream",
     "text": [
      "C:\\Users\\Yash\\anaconda3\\lib\\site-packages\\sklearn\\svm\\_base.py:231: ConvergenceWarning: Solver terminated early (max_iter=1000).  Consider pre-processing your data with StandardScaler or MinMaxScaler.\n",
      "  % self.max_iter, ConvergenceWarning)\n"
     ]
    },
    {
     "data": {
      "text/plain": [
       "SVC(C=100, break_ties=False, cache_size=200, class_weight=None, coef0=0.0,\n",
       "    decision_function_shape='ovr', degree=3, gamma='auto', kernel='rbf',\n",
       "    max_iter=1000, probability=False, random_state=None, shrinking=True,\n",
       "    tol=0.001, verbose=False)"
      ]
     },
     "execution_count": 21,
     "metadata": {},
     "output_type": "execute_result"
    }
   ],
   "source": [
    "# Using rbf kernel \n",
    "# regulization param is set to 100, gamma is set to auto, random_state is None and max iterations are 1000\n",
    "svc_rbf1 = SVC(C=100, kernel='rbf', gamma='auto', max_iter=1000,\n",
    "                  probability=False, random_state=None)\n",
    "svc_rbf1.fit(X_train, y_train)"
   ]
  },
  {
   "cell_type": "code",
   "execution_count": 22,
   "metadata": {},
   "outputs": [],
   "source": [
    "y_pred5 = svc_rbf1.predict(X_test)"
   ]
  },
  {
   "cell_type": "code",
   "execution_count": 23,
   "metadata": {},
   "outputs": [
    {
     "name": "stdout",
     "output_type": "stream",
     "text": [
      "[[ 971    0    2    2    0    3    1    0    1    0]\n",
      " [   0 1129    3    0    0    1    0    1    1    0]\n",
      " [   7    2 1004    1    1    0    2    6    8    1]\n",
      " [   0    0    3  982    0   10    0    4    7    4]\n",
      " [   0    0    7    0  956    1    2    0    0   16]\n",
      " [   5    1    1   11    2  861    4    1    3    3]\n",
      " [   6    2    3    0    2    6  936    0    3    0]\n",
      " [   1    3   13    3    3    0    0  990    1   14]\n",
      " [   5    2    4    8    2    4    3    5  939    2]\n",
      " [   2    5    0    6   14    3    0    9    3  967]]\n",
      "              precision    recall  f1-score   support\n",
      "\n",
      "           0       0.97      0.99      0.98       980\n",
      "           1       0.99      0.99      0.99      1135\n",
      "           2       0.97      0.97      0.97      1032\n",
      "           3       0.97      0.97      0.97      1010\n",
      "           4       0.98      0.97      0.97       982\n",
      "           5       0.97      0.97      0.97       892\n",
      "           6       0.99      0.98      0.98       958\n",
      "           7       0.97      0.96      0.97      1028\n",
      "           8       0.97      0.96      0.97       974\n",
      "           9       0.96      0.96      0.96      1009\n",
      "\n",
      "    accuracy                           0.97     10000\n",
      "   macro avg       0.97      0.97      0.97     10000\n",
      "weighted avg       0.97      0.97      0.97     10000\n",
      "\n",
      "0.9735\n"
     ]
    }
   ],
   "source": [
    "print(classification_report(y_test, y_pred5))\n",
    "print(accuracy_score(y_test,y_pred5))\n",
    "error5 = zero_one_loss(y_test, y_pred5)\n",
    "print(error5)"
   ]
  },
  {
   "cell_type": "code",
   "execution_count": 24,
   "metadata": {},
   "outputs": [
    {
     "data": {
      "text/plain": [
       "SVC(C=1.0, break_ties=False, cache_size=200, class_weight=None, coef0=0.0,\n",
       "    decision_function_shape='ovr', degree=3, gamma='scale', kernel='sigmoid',\n",
       "    max_iter=-1, probability=False, random_state=None, shrinking=True,\n",
       "    tol=0.001, verbose=False)"
      ]
     },
     "execution_count": 24,
     "metadata": {},
     "output_type": "execute_result"
    }
   ],
   "source": [
    "# Using sigmoid kernel \n",
    "# regulization param is set to 1, gamma is set to scale and random_state is None\n",
    "svc_sig = SVC(kernel='sigmoid', gamma='scale', random_state=None)\n",
    "svc_sig.fit(X_train, y_train)"
   ]
  },
  {
   "cell_type": "code",
   "execution_count": 25,
   "metadata": {},
   "outputs": [],
   "source": [
    "y_pred6 = svc_sig.predict(X_test)"
   ]
  },
  {
   "cell_type": "code",
   "execution_count": 26,
   "metadata": {},
   "outputs": [
    {
     "name": "stdout",
     "output_type": "stream",
     "text": [
      "[[ 812    0   29    6    0   92   35    2    4    0]\n",
      " [   0 1073   13   15    0    3    4    1   26    0]\n",
      " [  29   44  779   25   20   15   46    6   60    8]\n",
      " [  29   10   38  725    2  120    6   14   42   24]\n",
      " [   5    5   11    1  830   11   19    4   18   78]\n",
      " [  48   24   12  107   14  591   20    6   59   11]\n",
      " [  17    5   75    2   31   35  784    0    9    0]\n",
      " [  25   15   38   11   17    6    0  850   13   53]\n",
      " [  24   40   31   32   30  128   11    9  624   45]\n",
      " [  18    6   16    8  121   31    0   73   45  691]]\n",
      "              precision    recall  f1-score   support\n",
      "\n",
      "           0       0.81      0.83      0.82       980\n",
      "           1       0.88      0.95      0.91      1135\n",
      "           2       0.75      0.75      0.75      1032\n",
      "           3       0.78      0.72      0.75      1010\n",
      "           4       0.78      0.85      0.81       982\n",
      "           5       0.57      0.66      0.61       892\n",
      "           6       0.85      0.82      0.83       958\n",
      "           7       0.88      0.83      0.85      1028\n",
      "           8       0.69      0.64      0.67       974\n",
      "           9       0.76      0.68      0.72      1009\n",
      "\n",
      "    accuracy                           0.78     10000\n",
      "   macro avg       0.77      0.77      0.77     10000\n",
      "weighted avg       0.78      0.78      0.78     10000\n",
      "\n",
      "0.7759\n"
     ]
    }
   ],
   "source": [
    "print(classification_report(y_test, y_pred6))\n",
    "print(accuracy_score(y_test,y_pred6))\n",
    "error6 = zero_one_loss(y_test, y_pred6)\n",
    "print(error6)"
   ]
  },
  {
   "cell_type": "code",
   "execution_count": null,
   "metadata": {},
   "outputs": [],
   "source": []
  },
  {
   "cell_type": "code",
   "execution_count": 27,
   "metadata": {},
   "outputs": [
    {
     "name": "stderr",
     "output_type": "stream",
     "text": [
      "C:\\Users\\Yash\\anaconda3\\lib\\site-packages\\sklearn\\svm\\_base.py:231: ConvergenceWarning: Solver terminated early (max_iter=1000).  Consider pre-processing your data with StandardScaler or MinMaxScaler.\n",
      "  % self.max_iter, ConvergenceWarning)\n"
     ]
    },
    {
     "data": {
      "text/plain": [
       "SVC(C=100, break_ties=False, cache_size=200, class_weight=None, coef0=0.0,\n",
       "    decision_function_shape='ovr', degree=3, gamma='auto', kernel='sigmoid',\n",
       "    max_iter=1000, probability=False, random_state=None, shrinking=True,\n",
       "    tol=0.001, verbose=False)"
      ]
     },
     "execution_count": 27,
     "metadata": {},
     "output_type": "execute_result"
    }
   ],
   "source": [
    "# Using sigmoid kernel \n",
    "# regulization param is set to 100, gamma is set to auto and max iterations are 1000\n",
    "svc_sig2 = SVC(C=100, kernel='sigmoid', gamma='auto', max_iter=1000,\n",
    "                  probability=False, random_state=None)\n",
    "svc_sig2.fit(X_train, y_train)"
   ]
  },
  {
   "cell_type": "code",
   "execution_count": 28,
   "metadata": {},
   "outputs": [],
   "source": [
    "y_pred7 = svc_sig2.predict(X_test)"
   ]
  },
  {
   "cell_type": "code",
   "execution_count": 29,
   "metadata": {},
   "outputs": [
    {
     "name": "stdout",
     "output_type": "stream",
     "text": [
      "[[ 966    0    3    1    1    6    1    1    0    1]\n",
      " [   0 1123    2    2    0    1    2    1    4    0]\n",
      " [  10    3  949   15    7    3    8    7   30    0]\n",
      " [   3    0   22  924    0   27    0   10   22    2]\n",
      " [   1    1    6    1  941    0    6    2    2   22]\n",
      " [   9    4    3   55    5  771   12    1   30    2]\n",
      " [   6    3    9    1    5   16  917    1    0    0]\n",
      " [   1    7   24    8   10    0    0  922    1   55]\n",
      " [   7    8   10   40    9   38    6    5  847    4]\n",
      " [   4    8    2    9   41    4    0   32   10  899]]\n",
      "              precision    recall  f1-score   support\n",
      "\n",
      "           0       0.96      0.99      0.97       980\n",
      "           1       0.97      0.99      0.98      1135\n",
      "           2       0.92      0.92      0.92      1032\n",
      "           3       0.88      0.91      0.89      1010\n",
      "           4       0.92      0.96      0.94       982\n",
      "           5       0.89      0.86      0.88       892\n",
      "           6       0.96      0.96      0.96       958\n",
      "           7       0.94      0.90      0.92      1028\n",
      "           8       0.90      0.87      0.88       974\n",
      "           9       0.91      0.89      0.90      1009\n",
      "\n",
      "    accuracy                           0.93     10000\n",
      "   macro avg       0.93      0.92      0.92     10000\n",
      "weighted avg       0.93      0.93      0.93     10000\n",
      "\n",
      "0.9259\n"
     ]
    }
   ],
   "source": [
    "print(classification_report(y_test, y_pred7))\n",
    "print(accuracy_score(y_test,y_pred7))\n",
    "error7 = zero_one_loss(y_test, y_pred7)\n",
    "print(error7)"
   ]
  },
  {
   "cell_type": "code",
   "execution_count": 33,
   "metadata": {},
   "outputs": [
    {
     "data": {
      "text/plain": [
       "SVC(C=500, break_ties=False, cache_size=200, class_weight=None, coef0=0.0,\n",
       "    decision_function_shape='ovr', degree=3, gamma=0.05, kernel='rbf',\n",
       "    max_iter=-1, probability=False, random_state=None, shrinking=True,\n",
       "    tol=0.001, verbose=False)"
      ]
     },
     "execution_count": 33,
     "metadata": {},
     "output_type": "execute_result"
    }
   ],
   "source": [
    "# Using rbf kernel \n",
    "# regulization param is set to 500, gamma is set to 0.05 and random_state is None\n",
    "svc_cg = SVC(C=500, gamma=0.05, random_state=None)\n",
    "svc_cg.fit(X_train, y_train)"
   ]
  },
  {
   "cell_type": "code",
   "execution_count": 34,
   "metadata": {},
   "outputs": [],
   "source": [
    "y_pred8 = svc_cg.predict(X_test)"
   ]
  },
  {
   "cell_type": "code",
   "execution_count": 35,
   "metadata": {},
   "outputs": [
    {
     "name": "stdout",
     "output_type": "stream",
     "text": [
      "              precision    recall  f1-score   support\n",
      "\n",
      "           0       0.99      0.99      0.99       980\n",
      "           1       0.99      0.99      0.99      1135\n",
      "           2       0.98      0.98      0.98      1032\n",
      "           3       0.98      0.99      0.98      1010\n",
      "           4       0.98      0.98      0.98       982\n",
      "           5       0.99      0.98      0.98       892\n",
      "           6       0.99      0.99      0.99       958\n",
      "           7       0.98      0.98      0.98      1028\n",
      "           8       0.97      0.99      0.98       974\n",
      "           9       0.98      0.96      0.97      1009\n",
      "\n",
      "    accuracy                           0.98     10000\n",
      "   macro avg       0.98      0.98      0.98     10000\n",
      "weighted avg       0.98      0.98      0.98     10000\n",
      "\n",
      "0.9837\n",
      "0.01629999999999998\n"
     ]
    }
   ],
   "source": [
    "print(classification_report(y_test, y_pred8))\n",
    "print(accuracy_score(y_test,y_pred8))\n",
    "error8 = zero_one_loss(y_test, y_pred8)\n",
    "print(error8)"
   ]
  },
  {
   "cell_type": "code",
   "execution_count": 37,
   "metadata": {},
   "outputs": [
    {
     "name": "stderr",
     "output_type": "stream",
     "text": [
      "C:\\Users\\Yash\\anaconda3\\lib\\site-packages\\sklearn\\svm\\_base.py:231: ConvergenceWarning: Solver terminated early (max_iter=1000).  Consider pre-processing your data with StandardScaler or MinMaxScaler.\n",
      "  % self.max_iter, ConvergenceWarning)\n"
     ]
    },
    {
     "data": {
      "text/plain": [
       "SVC(C=300, break_ties=False, cache_size=200, class_weight=None, coef0=0.0,\n",
       "    decision_function_shape='ovr', degree=3, gamma=0.005, kernel='rbf',\n",
       "    max_iter=1000, probability=False, random_state=None, shrinking=True,\n",
       "    tol=0.001, verbose=False)"
      ]
     },
     "execution_count": 37,
     "metadata": {},
     "output_type": "execute_result"
    }
   ],
   "source": [
    "# Using rbf kernel \n",
    "# regulization param is set to 300, gamma is set to 0.005 and max iterations are 1000\n",
    "svc_cg2 = SVC(C=300, gamma=0.005, max_iter=1000,\n",
    "                  probability=False, random_state=None)\n",
    "svc_cg2.fit(X_train, y_train)"
   ]
  },
  {
   "cell_type": "code",
   "execution_count": 38,
   "metadata": {},
   "outputs": [],
   "source": [
    "y_pred9 = svc_cg2.predict(X_test)"
   ]
  },
  {
   "cell_type": "code",
   "execution_count": 39,
   "metadata": {},
   "outputs": [
    {
     "name": "stdout",
     "output_type": "stream",
     "text": [
      "              precision    recall  f1-score   support\n",
      "\n",
      "           0       0.98      0.99      0.98       980\n",
      "           1       0.99      0.99      0.99      1135\n",
      "           2       0.98      0.98      0.98      1032\n",
      "           3       0.98      0.98      0.98      1010\n",
      "           4       0.98      0.98      0.98       982\n",
      "           5       0.98      0.98      0.98       892\n",
      "           6       0.99      0.98      0.99       958\n",
      "           7       0.98      0.97      0.98      1028\n",
      "           8       0.98      0.97      0.98       974\n",
      "           9       0.97      0.97      0.97      1009\n",
      "\n",
      "    accuracy                           0.98     10000\n",
      "   macro avg       0.98      0.98      0.98     10000\n",
      "weighted avg       0.98      0.98      0.98     10000\n",
      "\n",
      "0.9805\n",
      "0.019499999999999962\n"
     ]
    }
   ],
   "source": [
    "print(classification_report(y_test, y_pred9))\n",
    "print(accuracy_score(y_test,y_pred9))\n",
    "error9 = zero_one_loss(y_test, y_pred9)\n",
    "print(error9)"
   ]
  },
  {
   "cell_type": "code",
   "execution_count": null,
   "metadata": {},
   "outputs": [],
   "source": []
  }
 ],
 "metadata": {
  "kernelspec": {
   "display_name": "Python 3",
   "language": "python",
   "name": "python3"
  },
  "language_info": {
   "codemirror_mode": {
    "name": "ipython",
    "version": 3
   },
   "file_extension": ".py",
   "mimetype": "text/x-python",
   "name": "python",
   "nbconvert_exporter": "python",
   "pygments_lexer": "ipython3",
   "version": "3.7.6"
  }
 },
 "nbformat": 4,
 "nbformat_minor": 4
}
